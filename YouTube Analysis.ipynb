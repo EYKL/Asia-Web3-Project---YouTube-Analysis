{
 "cells": [
  {
   "cell_type": "code",
   "execution_count": 10,
   "id": "b45b602d-f093-49d8-8652-39275aba3474",
   "metadata": {},
   "outputs": [
    {
     "name": "stdout",
     "output_type": "stream",
     "text": [
      "Collecting pytube\n",
      "  Downloading pytube-15.0.0-py3-none-any.whl (57 kB)\n",
      "     -------------------------------------- 57.6/57.6 kB 251.9 kB/s eta 0:00:00\n",
      "Installing collected packages: pytube\n",
      "Successfully installed pytube-15.0.0\n"
     ]
    },
    {
     "name": "stderr",
     "output_type": "stream",
     "text": [
      "\n",
      "[notice] A new release of pip available: 22.3.1 -> 23.3.1\n",
      "[notice] To update, run: python.exe -m pip install --upgrade pip\n"
     ]
    }
   ],
   "source": [
    "#install basic libaries\n",
    "!pip install pandas\n",
    "!pip install seaborn\n",
    "!pip install nltk\n",
    "!pip install matplotlib\n",
    "!pip install scikit-learn\n",
    "!pip install wordcloud\n",
    "!pip install pytube\n",
    "!pip install beautifulsoup4"
   ]
  },
  {
   "cell_type": "code",
   "execution_count": null,
   "id": "53df72d2-8cfc-4cd9-aa29-d3844e96c7d4",
   "metadata": {},
   "outputs": [],
   "source": [
    "nltk.download('punkt')\n",
    "nltk.download('wordnet')\n",
    "nltk.download('stopwords')"
   ]
  },
  {
   "cell_type": "code",
   "execution_count": 2,
   "id": "455f419a-899a-44a6-aa5a-efa6e34be03c",
   "metadata": {},
   "outputs": [],
   "source": [
    "#import libaries \n",
    "import pandas as pd\n",
    "import matplotlib as plt\n",
    "import seaborn as sns\n",
    "import nltk\n",
    "from pytube import YouTube\n",
    "import sklearn"
   ]
  },
  {
   "cell_type": "code",
   "execution_count": 3,
   "id": "a0f99c19-e217-43ea-90ab-bfdc2ccca9d3",
   "metadata": {},
   "outputs": [
    {
     "data": {
      "text/plain": [
       "[<Stream: itag=\"17\" mime_type=\"video/3gpp\" res=\"144p\" fps=\"8fps\" vcodec=\"mp4v.20.3\" acodec=\"mp4a.40.2\" progressive=\"True\" type=\"video\">, <Stream: itag=\"18\" mime_type=\"video/mp4\" res=\"360p\" fps=\"30fps\" vcodec=\"avc1.42001E\" acodec=\"mp4a.40.2\" progressive=\"True\" type=\"video\">, <Stream: itag=\"22\" mime_type=\"video/mp4\" res=\"720p\" fps=\"30fps\" vcodec=\"avc1.64001F\" acodec=\"mp4a.40.2\" progressive=\"True\" type=\"video\">, <Stream: itag=\"136\" mime_type=\"video/mp4\" res=\"720p\" fps=\"30fps\" vcodec=\"avc1.4d401f\" progressive=\"False\" type=\"video\">, <Stream: itag=\"247\" mime_type=\"video/webm\" res=\"720p\" fps=\"30fps\" vcodec=\"vp9\" progressive=\"False\" type=\"video\">, <Stream: itag=\"135\" mime_type=\"video/mp4\" res=\"480p\" fps=\"30fps\" vcodec=\"avc1.4d401f\" progressive=\"False\" type=\"video\">, <Stream: itag=\"244\" mime_type=\"video/webm\" res=\"480p\" fps=\"30fps\" vcodec=\"vp9\" progressive=\"False\" type=\"video\">, <Stream: itag=\"134\" mime_type=\"video/mp4\" res=\"360p\" fps=\"30fps\" vcodec=\"avc1.4d401e\" progressive=\"False\" type=\"video\">, <Stream: itag=\"243\" mime_type=\"video/webm\" res=\"360p\" fps=\"30fps\" vcodec=\"vp9\" progressive=\"False\" type=\"video\">, <Stream: itag=\"133\" mime_type=\"video/mp4\" res=\"240p\" fps=\"30fps\" vcodec=\"avc1.4d4015\" progressive=\"False\" type=\"video\">, <Stream: itag=\"242\" mime_type=\"video/webm\" res=\"240p\" fps=\"30fps\" vcodec=\"vp9\" progressive=\"False\" type=\"video\">, <Stream: itag=\"160\" mime_type=\"video/mp4\" res=\"144p\" fps=\"30fps\" vcodec=\"avc1.4d400c\" progressive=\"False\" type=\"video\">, <Stream: itag=\"278\" mime_type=\"video/webm\" res=\"144p\" fps=\"30fps\" vcodec=\"vp9\" progressive=\"False\" type=\"video\">, <Stream: itag=\"139\" mime_type=\"audio/mp4\" abr=\"48kbps\" acodec=\"mp4a.40.5\" progressive=\"False\" type=\"audio\">, <Stream: itag=\"140\" mime_type=\"audio/mp4\" abr=\"128kbps\" acodec=\"mp4a.40.2\" progressive=\"False\" type=\"audio\">, <Stream: itag=\"249\" mime_type=\"audio/webm\" abr=\"50kbps\" acodec=\"opus\" progressive=\"False\" type=\"audio\">, <Stream: itag=\"250\" mime_type=\"audio/webm\" abr=\"70kbps\" acodec=\"opus\" progressive=\"False\" type=\"audio\">, <Stream: itag=\"251\" mime_type=\"audio/webm\" abr=\"160kbps\" acodec=\"opus\" progressive=\"False\" type=\"audio\">]"
      ]
     },
     "execution_count": 3,
     "metadata": {},
     "output_type": "execute_result"
    }
   ],
   "source": [
    "#testing on random video from the privided list\n",
    "#linking the video from Youtube site\n",
    "yt = YouTube('https://www.youtube.com/watch?v=oVKgeptZFeU')\n",
    "\n",
    "#checking the streams avalable\n",
    "yt.streams"
   ]
  },
  {
   "cell_type": "code",
   "execution_count": 4,
   "id": "0824b6d0-eaca-4394-a6f4-d1abc3f7ac93",
   "metadata": {},
   "outputs": [
    {
     "data": {
      "text/plain": [
       "{'a.en': <Caption lang=\"English (auto-generated)\" code=\"a.en\">}"
      ]
     },
     "execution_count": 4,
     "metadata": {},
     "output_type": "execute_result"
    }
   ],
   "source": [
    "#checking the captions available\n",
    "yt.captions"
   ]
  },
  {
   "cell_type": "code",
   "execution_count": 6,
   "id": "6e56f55c-f296-480d-a7bb-c32235060a98",
   "metadata": {},
   "outputs": [
    {
     "data": {
      "text/plain": [
       "1411"
      ]
     },
     "execution_count": 6,
     "metadata": {},
     "output_type": "execute_result"
    }
   ],
   "source": [
    "#checking the views\n",
    "yt.views"
   ]
  },
  {
   "cell_type": "code",
   "execution_count": 5,
   "id": "a874fcde-165c-4e93-b9ac-060824a3c5e4",
   "metadata": {},
   "outputs": [
    {
     "data": {
      "text/plain": [
       "\"Game On: Discover 20+ #GameFi Projects on Internet Computer! Web3 speed, low fees, and seamless play await—grow with the ICP ecosystem. Web2 developers, it's time to level up to web3 with ease! For more on bridging to the future of gaming, check out our development resources https://internetcomputer.org/docs/current/home\\n\\nIf you are startup, fill out this form https://docs.google.com/forms/d/15Gk1FYK_liIockXrbzfrR_m9M211-UQOC2URna4W8D0/edit\""
      ]
     },
     "execution_count": 5,
     "metadata": {},
     "output_type": "execute_result"
    }
   ],
   "source": [
    "#check the description\n",
    "yt.description"
   ]
  },
  {
   "cell_type": "code",
   "execution_count": 8,
   "id": "495c00af-49aa-4cab-aa2d-9f505eab6e93",
   "metadata": {},
   "outputs": [],
   "source": [
    "#testing saving the video desciption, but i think there is a simplier way maybe. i just found this snippet from google \n",
    "import csv\n",
    "description = yt.description\n",
    "\n",
    "# Define the CSV file path\n",
    "csv_file = \"video_description.csv\"\n",
    "\n",
    "# Write the description to the CSV file\n",
    "with open(csv_file, \"w\", newline=\"\", encoding=\"utf-8\") as file:\n",
    "    writer = csv.writer(file)\n",
    "    writer.writerow([\"Video ID\", \"Description\"])\n",
    "    writer.writerow([yt.video_id, description])"
   ]
  },
  {
   "cell_type": "code",
   "execution_count": null,
   "id": "3a173d9b-4f6f-45bb-9569-3686ab66d78f",
   "metadata": {},
   "outputs": [],
   "source": []
  },
  {
   "cell_type": "code",
   "execution_count": null,
   "id": "7f12f61f-a81f-4ff6-9605-4d2e85f3409e",
   "metadata": {},
   "outputs": [],
   "source": []
  },
  {
   "cell_type": "code",
   "execution_count": null,
   "id": "803a04a5-2b8e-41eb-bccb-0a806e4dc3c3",
   "metadata": {},
   "outputs": [],
   "source": []
  },
  {
   "cell_type": "code",
   "execution_count": null,
   "id": "4a854947-71aa-459c-808f-dd142f6c2211",
   "metadata": {},
   "outputs": [],
   "source": []
  },
  {
   "cell_type": "code",
   "execution_count": null,
   "id": "ef49b9a9-056f-41a0-a0b5-9e115f839ba1",
   "metadata": {},
   "outputs": [],
   "source": []
  },
  {
   "cell_type": "code",
   "execution_count": 107,
   "id": "c7c1e8a3-d665-4f4e-bee3-9544b4551dfd",
   "metadata": {},
   "outputs": [
    {
     "name": "stdout",
     "output_type": "stream",
     "text": [
      "You know what's better than ultrawide? Super ultrawide. Well, that's kind of arguable, but we've got the PG49WCD from Asus right here. And all I've got to say is it's QD OLED Gen 2. It's 5120 by 1440p, which at 49 inches gives you a respectable 108, 109 PPI. So you're above a hundred, which is kind of what most gamers at least are looking for. If you're interested in any sort of graphic design, you're probably looking for something a lot higher than that, but this is totally okay for everyday use. What have we got here in the box? We've got the really nice bag of cables that the ROG Swift monitors tend to come with, or at least the few that I've opened up have these. I got to say, I don't usually like getting extra bags of stuff because it just adds, and it's just more stuff I'm going to throw away. But I really like these cases that keep all the cables kind of in line here. We've got a display port, USB-C, USB 3.0. I should also note that it is a B to A cable. HDMI cable. It's ultra certified and ultra high speed, which basically means it's an HDMI 2.1 cable. And then we have our C13 power connector. Ooh, this is really nice. We get an ASUS VIP member notice. Guess that makes me a VIP. Very important Plouffe. Nice. And then we've got a little booklet here. It's an 1800R curvature radius. That's why this box is so thick. It's not very much curved, but you know, especially when it's on a 49 inch display, the curve shows up a bit more. Here's a color calibration testing report. They're claiming it's quite accurate out of the box. Now we've got one part of the stand, two parts of the stand. It's huge. I think throw the column in and then screw it down. Man, this thing's at least like three or four pounds or something just for the stand. Oh, what else? Oh, this is an adapter for if you want to VESA mount it to a arm. And then we're going to do the old click, clack, pull it out. Oh man, this thing is nice. There we go. Hear a good snap. Always make sure you hear that snaps that the mechanism is in place and holding it nice and tight. And then I'm actually going to two hand this one because it's so hefty. Oh. Look at the wingspan on this guy, right? Jeez. Okay, we'll take the protective foam off. I always love to see this little bit of extra protective foam. No. No, David, don't tell me that. Don't tell, is it actually? Oh my God. Don't tease me. You're just going to give me a heart attack one of these days. So on a display this large, you don't always get a ton of wiggle room in terms of stand capabilities, but this one shouldn't be too bad. We got some tilt. It's actually not, it's a lot of tilt to be honest for a display this size. We can go up and down, which is pretty standard. You can't go all that high though. That's actually really not much. I would have liked a bit more height, but then this thing would be even bigger. So it's got that nice column rotation, not a ton, but you know, you're going to set this thing up and then just leave it there. I'm hoping this isn't the kind of thing that you're going to put in an office and then like move it all around and be like, hey boss, check out the thing I'm working on. No, you're going to set this up on your desk and you are going to game or watch movies or hey, maybe production. I don't know. It's going to do 144 Hertz, which is slightly less than the 165 or 175 on the Alienware QD OLED panels. Let's be real. As long as you're over 120, 144, you're fine. Because it's OLED, it's boasting a 0.03 millisecond response time because it's QD OLED. OLED pixels are basically instant. And then on top of that, what's really great, we'll get into the IO in a bit here, but it's got a built-in KVM switch that can do 90 Watts of power delivery over USB-C. Even if you're not charging a laptop or plugging in a laptop to this thing, that's really nice to just have 90 Watts of power delivery. So if you want to charge your phone at your desk, just pop a cable into this thing and boop, it'll draw a bit more power and give it to your phones. Or, you know, maybe you got a handheld that you want to charge while you're playing games. You don't want to use an extra port somewhere. Now you can just do it from your monitor, which is super cool. As for the IO, we've got our HDMI 2.1 port, display port 1.4. Here is the USB-C connection for our KVM. It'll also do display port and 90 Watts power delivery right there. We've got USB-B for connecting to our computer. We've got USB-A. It's got four total USB-A ports, so we'll talk about it in a bit. And then we've got our SPDIF out, Kensington lock, if you really want to lock this thing down, I guess. I mean, it's a nice monitor. Two buttons and then a navigation nipple and then a headphone jack. And then on top of that, we've got that USB-A port on top. You might be a little confused by all of these USB ports, but don't forget, it's a KVM switch. So this lets you hook up a number of things to this device and let it all just work together at the press of a button. And you know what? Let's press the power button and turn it on and take a look at it. But not before this word from our sponsor. Thanks to LUMINKEY for sponsoring today's video. If you haven't heard of them before, LUMINKEY is a subsidiary of Createkeebs, a trusted name in the mechanical keyboard world. Their LUMINKEY80 is hot swappable and supports both ANSI and ISO layouts without soldering. It also features a CNC aluminum chassis, minimalist copper accents, supports both wired and wireless connection options, and uses the all new custom designed Gateron Silva linear switches. Learn more about the LUMINKEY80 at the link below. Okay, so first of all, to get this on the desk, we had to move things out of the way because it's enormous. The second thing is that as soon as I sat down and started looking more at the stand, I noticed that it's got this kind of weird off-axis non-parallel design, and I really don't like it. It drives me crazy. This is not the sort of thing that you will, you know, you should pay attention to. It's a pretty minor detail, but I honestly tried to like, I thought the stand was twisted and I tried to just like lock it in place, but no, that's just how it is. I don't like it at all. It's gonna drive me nuts. As for adjustment, oh yeah, let's lower it down. Let's get this like eye level. Get the tilt a little bit. It'll do 1000 nits on the adjustable brightness HDR setting, but it is only rated for VESA at true black 400, which is a little disappointing because HDR true black 600 is a thing now, and this can reach 1000 nits peak brightness, just not in that HDR 400 mode. I don't know how much I actually like the menu buttons on the back rather than down here. It's just a minor annoyance, and it's something you kind of have to reach for, whereas down here, it's just a little easier. I can't actually see the corners, so I have to like shift my vision and almost shift my whole neck actually, and look down to see that this is the start menu, and to see that this is the other side with the clock and everything. I don't wanna have to swivel my head to look at more of my monitor. I don't mind doing that for a whole second screen because I'm fully shifting my attention to that second screen, but I'm just, I really think I'm not made for super ultra wides. You know, a few of us really don't want this narrow strip of display, because having about this, and then just that little bit of extra verticality would really just kind of help suck me in. It's got some RGB. Is there RGB on the back? Oh yes, we got the big ASUS logo on the back, doing all the RGB things. The cool thing though is that you basically have two displays at your disposal without any kind of middle bezel. There are a lot of great use cases for 32 by nine. You do a lot of spreadsheets. Maybe you want a one single display solution, but you need enough space where you have like a full screen for Discord or your Twitch stream or whatever. And then you've got your game over here. It's one of those things kind of like 8K resolution where I don't know how much you really need it, but some people out there want it. And so the more the merrier. Man, this looks good. Every single thing that was a problem with gen one, like the text fringing, the weird kind of gray or maroon background when it's fully off. Both of those things were fixed and then they cranked the brightness again. Now, this is only gonna do a thousand nits, which gen one was also able to do. The cool thing that ASUS has done is they've got a graphene thermal dissipation layer instead of like an aluminum heat sink. They're saying that it should help a little bit with burn-in. I haven't experienced any on my own QD OLED gen one panel at all. And I, you know, I treat it pretty well, but I've definitely done some dumb things like leaving it on on a static background for like two days straight as I head out for the weekend or whatever. And again, nothing. The picture is unbeatable. I have not seen LG's new micro lens array in their OLED technology. And maybe that looks really good. I don't know yet. But man, QD OLED gen two looks phenomenal. Like that guy's, oh, the jacket, the white on the cherry blossoms and like her mask, it just looks lifelike. There is something phenomenal about the technology that I just can't stop just being amazed by. Especially if you look at the black on both sides, it's just black. We've also got a really high contrast ratio. I think they're listing 1.5 million to one on their own website. We measured some absurdly high number. Math doesn't like dividing by zero. In HDR 400, we capped out around 490 nits peak brightness. Turn on the adjustable brightness, and then it'll go all the way up to 1000. We did test for color accuracy. And I can tell you that in HDR true black, we're getting a very impressive average delta E of 5.3. And with luminance errors in HDR content, we're hitting a max error of I think 13.5 or so. That's pretty dang good. God, I want a gen two panel now. Here's some of the problems that you might encounter while playing a 32 by nine content. My friend, my friends, tab. But I can't see the top because it's confused. Oh my God. I can't, I don't know what to do. Even if in game, it's got a perfect ultra wide support system. You're not going to have most menus in ultra wide. And it's such a minor complaint for me. I was playing the last of us one remake on PC in ultra wide. And it brought in when you go to upgrade your gun, for example, it cuts into this black barred mess where Joel is now, you know, upgrading the gun. And I think that you could adjust it and all of a sudden it works, but now you can see the animations breaking where he doesn't like his arm doesn't fully go away or whatever. So many people are still gaming at 1920 by 1080. When you go out and buy an ultra wide or a super ultra wide, you're kind of setting yourself up for some annoying, annoying situations. Yo, like this looks great. This looks really good. Doom actually keeps the UI elements like right here where a normal 16 by nine screen would be. Some games though, the UI will go to the edge of the screen. So you've got to like tilt your head all the way. Having an ultra wide or super ultra wide aspect ratio is something that is nice most of the time. But every now and then you're just going to run into these like really weird quirks that just kind of bother you. This is the ROG Swift PG 49 WCD, beautiful monitor. If you want to check out other short circuits, check out the YeYian monitor we looked at. It was a lot cheaper. It wasn't awful, but it had some weird things about it that I did not like mostly about the stand. \n"
     ]
    }
   ],
   "source": [
    "'''below is some code you can disgard.  i thought we had to get the video captions but you guys can take a look if interested'''\n",
    "\n",
    "#test using randome youtube video\n",
    "\n",
    "yt = YouTube('https://www.youtube.com/watch?v=_L4r9_6U0Wg')\n",
    "yt.streams\n",
    "yt.captions\n",
    "caps = yt.captions\n",
    "en_caps = caps['en']\n",
    "xml_caps = en_caps.xml_captions\n",
    "\n",
    "import xml.etree.ElementTree as ET\n",
    "\n",
    "# Parse the XML captions using Element Tree as I couldnt get the srt function in pytube to work. \n",
    "xml = ET.fromstring(xml_caps)\n",
    "\n",
    "# Extract the text content from the XML captions\n",
    "captions_text = \"\"\n",
    "for text in xml.iter('p'):\n",
    "    caption = text.text\n",
    "    if caption:\n",
    "        captions_text += caption + \" \"\n",
    "\n",
    "# Print the extracted captions text\n",
    "print(captions_text)"
   ]
  },
  {
   "cell_type": "code",
   "execution_count": null,
   "id": "922b39b3-1d9e-4173-a20b-f318b513d0ac",
   "metadata": {},
   "outputs": [],
   "source": []
  },
  {
   "cell_type": "code",
   "execution_count": null,
   "id": "f165b34e-183f-4ef7-8ca2-c5563690dc48",
   "metadata": {},
   "outputs": [],
   "source": []
  },
  {
   "cell_type": "code",
   "execution_count": null,
   "id": "50bc158b-af43-4038-8d41-b92d5874b816",
   "metadata": {},
   "outputs": [],
   "source": []
  },
  {
   "cell_type": "code",
   "execution_count": null,
   "id": "3ae9f5df-6757-41e2-9d42-44031d574439",
   "metadata": {},
   "outputs": [],
   "source": []
  },
  {
   "cell_type": "code",
   "execution_count": null,
   "id": "5995358d-6eed-44dc-bb91-7dd0210df87d",
   "metadata": {},
   "outputs": [],
   "source": []
  },
  {
   "cell_type": "code",
   "execution_count": null,
   "id": "99347c96-1ca2-4aec-bfe4-b0a3b0ad77b7",
   "metadata": {},
   "outputs": [],
   "source": []
  },
  {
   "cell_type": "code",
   "execution_count": null,
   "id": "7874bae6-a46c-4d09-adcf-763e7bcd0ac0",
   "metadata": {},
   "outputs": [],
   "source": []
  }
 ],
 "metadata": {
  "kernelspec": {
   "display_name": "Python 3 (ipykernel)",
   "language": "python",
   "name": "python3"
  },
  "language_info": {
   "codemirror_mode": {
    "name": "ipython",
    "version": 3
   },
   "file_extension": ".py",
   "mimetype": "text/x-python",
   "name": "python",
   "nbconvert_exporter": "python",
   "pygments_lexer": "ipython3",
   "version": "3.11.5"
  }
 },
 "nbformat": 4,
 "nbformat_minor": 5
}
